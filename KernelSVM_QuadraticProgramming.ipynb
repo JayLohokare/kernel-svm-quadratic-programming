{
 "cells": [
  {
   "cell_type": "code",
   "execution_count": 16,
   "metadata": {},
   "outputs": [
    {
     "name": "stdout",
     "output_type": "stream",
     "text": [
      "Code starts here\n"
     ]
    }
   ],
   "source": [
    "print \"Code starts here\"\n",
    "#All Imports are here\n",
    "\n",
    "import numpy as np\n",
    "import quadprog as qp\n",
    "from scipy.sparse import identity\n",
    "import scipy.io as sio\n",
    "\n"
   ]
  },
  {
   "cell_type": "code",
   "execution_count": 32,
   "metadata": {},
   "outputs": [],
   "source": [
    "#Questio 3.2 - Use quadratic programming to optimize the dual SVM objective. In Matlab, you can use the function quadprog\n",
    "\n",
    "# def quadprog_solve_qp(P, q, G=None, h=None, A=None, b=None):\n",
    "#     qp_G = .5 * (P + P.T)   # make sure P is symmetric\n",
    "#     qp_a = -q\n",
    "#     if A is not None:\n",
    "#         qp_C = -numpy.vstack([A, G]).T\n",
    "#         qp_b = -numpy.hstack([b, h])\n",
    "#         meq = A.shape[0]\n",
    "#     else:  # no equality constraint\n",
    "#         qp_C = -G.T\n",
    "#         qp_b = -h\n",
    "#         meq = 0\n",
    "#     return quadprog.solve_qp(qp_G, qp_a, qp_C, qp_b, meq)[0]\n",
    "\n",
    "\n",
    "def quadprog(K, Y, C):\n",
    "    \"\"\"\n",
    "    minimize:\n",
    "            (1/2)*x'*H*x + f'*x\n",
    "    subject to:\n",
    "            Aeq*x = beq \n",
    "            lb <= x <= ub\n",
    "    \"\"\"\n",
    "    n = len(Y)\n",
    "    H = np.matmul(np.matmul(Y.diagonal(), K), Y.diagonal)\n",
    "    f = -np.ones(n)\n",
    "    A = []\n",
    "    b = []\n",
    "    Aeq = Y.T\n",
    "    beq = 0\n",
    "    lb = np.zeros(n)\n",
    "    ub = C*np.ones(n)\n",
    "    P, q, G, h, A, b = convert(H, f, Aeq, beq, lb, ub)\n",
    "    results = qp.solve_qp(P, q, G, h, A, b)\n",
    "    \n",
    "    return results\n",
    "\n",
    "    # Convert back to NumPy matrix\n",
    "    # and return solution\n",
    "    xstar = results['x']\n",
    "    \n",
    "    print np.matrix(xstar)\n",
    "\n",
    "\n",
    "def convert(H, f, Aeq, beq, lb, ub):                                                                                  \n",
    "    \"\"\"\n",
    "    Convert vals to quadprog format\n",
    "    \"\"\"\n",
    "    P = H                                                                                                      \n",
    "    q = f\n",
    "    if Aeq is None:                                                                                                    \n",
    "        A = None                                                                                                       \n",
    "    else: \n",
    "        A = Aeq                                                                                                \n",
    "    if beq is None:                                                                                                    \n",
    "        b = None                                                                                                       \n",
    "    else: \n",
    "        b = beq                                                                                                \n",
    "    n = lb.size\n",
    "    G = [-identity(n), identity(n)]                                                                                  \n",
    "    h = np.vstack([-lb, ub])                                                                                   \n",
    "    return P, q, G, h, A, b \n"
   ]
  },
  {
   "cell_type": "code",
   "execution_count": 35,
   "metadata": {},
   "outputs": [],
   "source": [
    "#Question 3.3 - Program to calculate w and b\n",
    "\n",
    "\n",
    "\n",
    "def calculateWB(X, Y, C):\n",
    "    K = np.matmul(X.T, X)\n",
    "    [a, b, obj] = quadprog(K, Y, C)\n",
    "    w = np.dot(np.dot(X, Y.diagonal()),a)\n",
    "    print w"
   ]
  },
  {
   "cell_type": "code",
   "execution_count": 37,
   "metadata": {},
   "outputs": [
    {
     "name": "stdout",
     "output_type": "stream",
     "text": [
      "[1]\n"
     ]
    }
   ],
   "source": [
    "#Question 3.4 \n",
    "\n",
    "C = 0.1\n",
    "\n",
    "data = sio.loadmat(\"C:\\Jay\\Stony Brook\\Sem 2\\ML\\ML HW 2\\hw2data\\q3_1_data.mat\")\n",
    "X = data['trD']\n",
    "Y = data['trLb']\n",
    "\n",
    "print Y.diagonal()\n",
    "\n",
    "# calculateWB(X, Y, C)\n",
    "\n"
   ]
  },
  {
   "cell_type": "code",
   "execution_count": null,
   "metadata": {},
   "outputs": [],
   "source": []
  }
 ],
 "metadata": {
  "kernelspec": {
   "display_name": "Python 2",
   "language": "python",
   "name": "python2"
  },
  "language_info": {
   "codemirror_mode": {
    "name": "ipython",
    "version": 2
   },
   "file_extension": ".py",
   "mimetype": "text/x-python",
   "name": "python",
   "nbconvert_exporter": "python",
   "pygments_lexer": "ipython2",
   "version": "2.7.14"
  }
 },
 "nbformat": 4,
 "nbformat_minor": 2
}
